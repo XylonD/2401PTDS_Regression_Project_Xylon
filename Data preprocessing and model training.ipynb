{
 "cells": [
  {
   "cell_type": "markdown",
   "metadata": {},
   "source": [
    "## Data Preprocessing and Feature Engineering\n",
    "This is an important step in machine learning. Here we will perfrom data scaling, either normalisation or standardisation, which will assist the ML model in making accurate predictions. "
   ]
  },
  {
   "cell_type": "code",
   "execution_count": 3,
   "metadata": {},
   "outputs": [],
   "source": [
    "#import packages\n",
    "import pandas as pd\n",
    "import numpy as np\n",
    "import matplotlib.pyplot as plt\n",
    "import seaborn as sns \n",
    "from sklearn.preprocessing import StandardScaler\n",
    "from sklearn.model_selection import train_test_split\n",
    "from sklearn.linear_model import LinearRegression, Ridge\n",
    "from sklearn.ensemble import RandomForestRegressor\n",
    "from sklearn.metrics import mean_squared_error, mean_absolute_error, r2_score\n",
    "from sklearn.ensemble import GradientBoostingRegressor"
   ]
  },
  {
   "cell_type": "code",
   "execution_count": 2,
   "metadata": {},
   "outputs": [
    {
     "data": {
      "text/html": [
       "<div>\n",
       "<style scoped>\n",
       "    .dataframe tbody tr th:only-of-type {\n",
       "        vertical-align: middle;\n",
       "    }\n",
       "\n",
       "    .dataframe tbody tr th {\n",
       "        vertical-align: top;\n",
       "    }\n",
       "\n",
       "    .dataframe thead th {\n",
       "        text-align: right;\n",
       "    }\n",
       "</style>\n",
       "<table border=\"1\" class=\"dataframe\">\n",
       "  <thead>\n",
       "    <tr style=\"text-align: right;\">\n",
       "      <th></th>\n",
       "      <th>Country</th>\n",
       "      <th>Year</th>\n",
       "      <th>Savanna_fires</th>\n",
       "      <th>Forest_fires</th>\n",
       "      <th>Crop_Residues</th>\n",
       "      <th>Rice_Cultivation</th>\n",
       "      <th>Drained_organic_soils_(CO2)</th>\n",
       "      <th>Pesticides_Manufacturing</th>\n",
       "      <th>Food_Transport</th>\n",
       "      <th>Forestland</th>\n",
       "      <th>...</th>\n",
       "      <th>Manure_Management</th>\n",
       "      <th>Fires_in_organic_soils</th>\n",
       "      <th>Fires_in_humid_tropical_forests</th>\n",
       "      <th>On-farm_energy_use</th>\n",
       "      <th>Rural_population</th>\n",
       "      <th>Urban_population</th>\n",
       "      <th>Total_Population_-_Male</th>\n",
       "      <th>Total_Population_-_Female</th>\n",
       "      <th>total_emission</th>\n",
       "      <th>Average_Temperature_°C</th>\n",
       "    </tr>\n",
       "  </thead>\n",
       "  <tbody>\n",
       "    <tr>\n",
       "      <th>0</th>\n",
       "      <td>Afghanistan</td>\n",
       "      <td>1993</td>\n",
       "      <td>14.7237</td>\n",
       "      <td>0.0557</td>\n",
       "      <td>230.8175</td>\n",
       "      <td>686.0</td>\n",
       "      <td>0.0</td>\n",
       "      <td>11.712073</td>\n",
       "      <td>54.3617</td>\n",
       "      <td>-2388.803</td>\n",
       "      <td>...</td>\n",
       "      <td>352.2947</td>\n",
       "      <td>0.0</td>\n",
       "      <td>0.0</td>\n",
       "      <td>140.6888</td>\n",
       "      <td>11858090.0</td>\n",
       "      <td>3237009.0</td>\n",
       "      <td>7003641.0</td>\n",
       "      <td>7000119.0</td>\n",
       "      <td>2368.470529</td>\n",
       "      <td>0.101917</td>\n",
       "    </tr>\n",
       "    <tr>\n",
       "      <th>1</th>\n",
       "      <td>Afghanistan</td>\n",
       "      <td>1994</td>\n",
       "      <td>14.7237</td>\n",
       "      <td>0.0557</td>\n",
       "      <td>242.0494</td>\n",
       "      <td>705.6</td>\n",
       "      <td>0.0</td>\n",
       "      <td>11.712073</td>\n",
       "      <td>53.9874</td>\n",
       "      <td>-2388.803</td>\n",
       "      <td>...</td>\n",
       "      <td>367.6784</td>\n",
       "      <td>0.0</td>\n",
       "      <td>0.0</td>\n",
       "      <td>140.6888</td>\n",
       "      <td>12690115.0</td>\n",
       "      <td>3482604.0</td>\n",
       "      <td>7733458.0</td>\n",
       "      <td>7722096.0</td>\n",
       "      <td>2500.768729</td>\n",
       "      <td>0.372250</td>\n",
       "    </tr>\n",
       "    <tr>\n",
       "      <th>2</th>\n",
       "      <td>Afghanistan</td>\n",
       "      <td>1995</td>\n",
       "      <td>14.7237</td>\n",
       "      <td>0.0557</td>\n",
       "      <td>243.8152</td>\n",
       "      <td>666.4</td>\n",
       "      <td>0.0</td>\n",
       "      <td>11.712073</td>\n",
       "      <td>54.6445</td>\n",
       "      <td>-2388.803</td>\n",
       "      <td>...</td>\n",
       "      <td>397.5498</td>\n",
       "      <td>0.0</td>\n",
       "      <td>0.0</td>\n",
       "      <td>140.6888</td>\n",
       "      <td>13401971.0</td>\n",
       "      <td>3697570.0</td>\n",
       "      <td>8219467.0</td>\n",
       "      <td>8199445.0</td>\n",
       "      <td>2624.612529</td>\n",
       "      <td>0.285583</td>\n",
       "    </tr>\n",
       "    <tr>\n",
       "      <th>3</th>\n",
       "      <td>Afghanistan</td>\n",
       "      <td>1996</td>\n",
       "      <td>38.9302</td>\n",
       "      <td>0.2014</td>\n",
       "      <td>249.0364</td>\n",
       "      <td>686.0</td>\n",
       "      <td>0.0</td>\n",
       "      <td>11.712073</td>\n",
       "      <td>53.1637</td>\n",
       "      <td>-2388.803</td>\n",
       "      <td>...</td>\n",
       "      <td>465.2050</td>\n",
       "      <td>0.0</td>\n",
       "      <td>0.0</td>\n",
       "      <td>140.6888</td>\n",
       "      <td>13952791.0</td>\n",
       "      <td>3870093.0</td>\n",
       "      <td>8569175.0</td>\n",
       "      <td>8537421.0</td>\n",
       "      <td>2838.921329</td>\n",
       "      <td>0.036583</td>\n",
       "    </tr>\n",
       "    <tr>\n",
       "      <th>4</th>\n",
       "      <td>Afghanistan</td>\n",
       "      <td>1997</td>\n",
       "      <td>30.9378</td>\n",
       "      <td>0.1193</td>\n",
       "      <td>276.2940</td>\n",
       "      <td>705.6</td>\n",
       "      <td>0.0</td>\n",
       "      <td>11.712073</td>\n",
       "      <td>52.0390</td>\n",
       "      <td>-2388.803</td>\n",
       "      <td>...</td>\n",
       "      <td>511.5927</td>\n",
       "      <td>0.0</td>\n",
       "      <td>0.0</td>\n",
       "      <td>140.6888</td>\n",
       "      <td>14373573.0</td>\n",
       "      <td>4008032.0</td>\n",
       "      <td>8916862.0</td>\n",
       "      <td>8871958.0</td>\n",
       "      <td>3204.180115</td>\n",
       "      <td>0.415167</td>\n",
       "    </tr>\n",
       "  </tbody>\n",
       "</table>\n",
       "<p>5 rows × 30 columns</p>\n",
       "</div>"
      ],
      "text/plain": [
       "       Country  Year  Savanna_fires  Forest_fires  Crop_Residues  \\\n",
       "0  Afghanistan  1993        14.7237        0.0557       230.8175   \n",
       "1  Afghanistan  1994        14.7237        0.0557       242.0494   \n",
       "2  Afghanistan  1995        14.7237        0.0557       243.8152   \n",
       "3  Afghanistan  1996        38.9302        0.2014       249.0364   \n",
       "4  Afghanistan  1997        30.9378        0.1193       276.2940   \n",
       "\n",
       "   Rice_Cultivation  Drained_organic_soils_(CO2)  Pesticides_Manufacturing  \\\n",
       "0             686.0                          0.0                 11.712073   \n",
       "1             705.6                          0.0                 11.712073   \n",
       "2             666.4                          0.0                 11.712073   \n",
       "3             686.0                          0.0                 11.712073   \n",
       "4             705.6                          0.0                 11.712073   \n",
       "\n",
       "   Food_Transport  Forestland  ...  Manure_Management  Fires_in_organic_soils  \\\n",
       "0         54.3617   -2388.803  ...           352.2947                     0.0   \n",
       "1         53.9874   -2388.803  ...           367.6784                     0.0   \n",
       "2         54.6445   -2388.803  ...           397.5498                     0.0   \n",
       "3         53.1637   -2388.803  ...           465.2050                     0.0   \n",
       "4         52.0390   -2388.803  ...           511.5927                     0.0   \n",
       "\n",
       "   Fires_in_humid_tropical_forests  On-farm_energy_use  Rural_population  \\\n",
       "0                              0.0            140.6888        11858090.0   \n",
       "1                              0.0            140.6888        12690115.0   \n",
       "2                              0.0            140.6888        13401971.0   \n",
       "3                              0.0            140.6888        13952791.0   \n",
       "4                              0.0            140.6888        14373573.0   \n",
       "\n",
       "   Urban_population  Total_Population_-_Male  Total_Population_-_Female  \\\n",
       "0         3237009.0                7003641.0                  7000119.0   \n",
       "1         3482604.0                7733458.0                  7722096.0   \n",
       "2         3697570.0                8219467.0                  8199445.0   \n",
       "3         3870093.0                8569175.0                  8537421.0   \n",
       "4         4008032.0                8916862.0                  8871958.0   \n",
       "\n",
       "   total_emission  Average_Temperature_°C  \n",
       "0     2368.470529                0.101917  \n",
       "1     2500.768729                0.372250  \n",
       "2     2624.612529                0.285583  \n",
       "3     2838.921329                0.036583  \n",
       "4     3204.180115                0.415167  \n",
       "\n",
       "[5 rows x 30 columns]"
      ]
     },
     "execution_count": 2,
     "metadata": {},
     "output_type": "execute_result"
    }
   ],
   "source": [
    "#import cleaned df csv\n",
    "\n",
    "df = pd.read_csv(\"Regression project cleaned dataset\", index_col=None)\n",
    "\n",
    "#drop unamed column - exported incorrectly - index should be set to False\n",
    "##df = df.drop(columns='Unnamed: 0')\n",
    "#output top 5 rows\n",
    "df.head()"
   ]
  },
  {
   "cell_type": "markdown",
   "metadata": {},
   "source": [
    "#### Perform Encoding for Categorical or Non-Numeric features\n",
    "We might not need this"
   ]
  },
  {
   "cell_type": "code",
   "execution_count": 16,
   "metadata": {},
   "outputs": [
    {
     "data": {
      "text/plain": [
       "(6270, 257)"
      ]
     },
     "execution_count": 16,
     "metadata": {},
     "output_type": "execute_result"
    }
   ],
   "source": [
    "#dummy variable endcoding for categorical variables\n",
    "#df_encoded = pd.get_dummies(df, drop_first = True)"
   ]
  },
  {
   "cell_type": "markdown",
   "metadata": {},
   "source": [
    "#### create predictor and response variables"
   ]
  },
  {
   "cell_type": "code",
   "execution_count": 5,
   "metadata": {},
   "outputs": [],
   "source": [
    "#split data in predictor and response variables\n",
    "X = df.drop(['Average_Temperature_°C','Country', 'Year'], axis = 1)\n",
    "\n",
    "y = df['Average_Temperature_°C']\n"
   ]
  },
  {
   "cell_type": "markdown",
   "metadata": {},
   "source": [
    "#### Create Train Test Split\n",
    "Here we're going to split our data into a training set and a testing set. We'll apply the 20% rule where 20% of our X and y features will be used for testing the model."
   ]
  },
  {
   "cell_type": "code",
   "execution_count": 6,
   "metadata": {},
   "outputs": [],
   "source": [
    "#create train test split\n",
    "X_train, X_test, y_train, y_test = train_test_split(X, y, test_size = 0.20, random_state = 42)"
   ]
  },
  {
   "cell_type": "markdown",
   "metadata": {},
   "source": [
    "### Feature scaling \n",
    "I'm going to use standardisation - it involves centering values around the mean and adjusting the standard deviation to one unit. Using Sklearns StandardScaler from the sklearn - preprocessing package. The reason for using Standardisation is because it handles outliers gracefully. We noticed that the dataset contains a number of outliers in various columns."
   ]
  },
  {
   "cell_type": "code",
   "execution_count": 13,
   "metadata": {},
   "outputs": [],
   "source": [
    "#Normalise X and y\n",
    "scaler = StandardScaler()\n",
    "\n",
    "# Fit scaler on training data, transform both train and test data\n",
    "X_train_scaled = scaler.fit_transform(X_train) \n",
    "X_test_scaled = scaler.transform(X_test)\n",
    "\n",
    "# Optional: convert back to DataFrame for easier column reference\n",
    "X_train_scaled = pd.DataFrame(X_train_scaled, columns=X.columns)\n",
    "X_test_scaled = pd.DataFrame(X_test_scaled, columns=X.columns)"
   ]
  },
  {
   "cell_type": "markdown",
   "metadata": {},
   "source": [
    "#### Feature Selection\n",
    "By selecting the most relevant features, we can improve the model’s interpretability, reduce overfitting, and potentially enhance performance. Given the weak correlations, some advanced feature selection techniques can help identify non-linear relationships and interactions that simple correlations might miss."
   ]
  },
  {
   "cell_type": "markdown",
   "metadata": {},
   "source": [
    " Feature Selection with Recursive Feature Elimination (RFE)"
   ]
  },
  {
   "cell_type": "code",
   "execution_count": 14,
   "metadata": {},
   "outputs": [
    {
     "name": "stdout",
     "output_type": "stream",
     "text": [
      "Selected features by RFE: Index(['Pesticides_Manufacturing', 'Food_Packaging',\n",
      "       'Agrifood_Systems_Waste_Disposal', 'Fertilizers_Manufacturing', 'IPPU',\n",
      "       'Manure_applied_to_Soils', 'Manure_Management', 'Rural_population',\n",
      "       'Urban_population', 'Total_Population_-_Female'],\n",
      "      dtype='object')\n"
     ]
    }
   ],
   "source": [
    "from sklearn.feature_selection import RFE\n",
    "# Initialize the linear regression model for RFE\n",
    "lr_model = LinearRegression()\n",
    "\n",
    "# Set up RFE with all features initially and trim down\n",
    "selector = RFE(estimator=lr_model, n_features_to_select=10, step=1)\n",
    "selector.fit(X_train_scaled, y_train)\n",
    "\n",
    "# Get selected features\n",
    "selected_features_rfe = X.columns[selector.support_]\n",
    "print(\"Selected features by RFE:\", selected_features_rfe)"
   ]
  },
  {
   "cell_type": "markdown",
   "metadata": {},
   "source": [
    "Feature Selection with Random Forest"
   ]
  },
  {
   "cell_type": "code",
   "execution_count": 15,
   "metadata": {},
   "outputs": [
    {
     "name": "stdout",
     "output_type": "stream",
     "text": [
      "Top 10 features by Random Forest importance: Index(['Food_Retail', 'Manure_left_on_Pasture', 'Fertilizers_Manufacturing',\n",
      "       'Rice_Cultivation', 'Fires_in_humid_tropical_forests',\n",
      "       'Drained_organic_soils_(CO2)', 'IPPU', 'Food_Transport',\n",
      "       'Rural_population', 'On-farm_Electricity_Use'],\n",
      "      dtype='object')\n"
     ]
    }
   ],
   "source": [
    "# Train Random Forest model for feature importance\n",
    "rf_model = RandomForestRegressor(n_estimators=100,max_depth=10,random_state=42)\n",
    "rf_model.fit(X_train_scaled, y_train)\n",
    "\n",
    "# Get top 10 features based on importance\n",
    "feature_importances = pd.Series(rf_model.feature_importances_, index=X.columns)\n",
    "selected_features_rf = feature_importances.nlargest(10).index\n",
    "print(\"Top 10 features by Random Forest importance:\", selected_features_rf)"
   ]
  },
  {
   "cell_type": "code",
   "execution_count": 16,
   "metadata": {},
   "outputs": [],
   "source": [
    "#combine features from various selectors\n",
    "final_features = list(set(selected_features_rfe) | set(selected_features_rf))\n",
    "\n",
    "#update X_train and X_test with final features\n",
    "X_train_final = X_train_scaled[final_features]\n",
    "X_test_final = X_test_scaled[final_features]"
   ]
  },
  {
   "cell_type": "markdown",
   "metadata": {},
   "source": [
    "#### Select and develop three primary models\n",
    "I'm going to make use of the following models:\n",
    "1. Linear Regression\n",
    "2. Ridge Regression\n",
    "3. Random Forest Regressor\n",
    "\n",
    "We can add more or change it up later if need be."
   ]
  },
  {
   "cell_type": "markdown",
   "metadata": {},
   "source": [
    "#### Linear Regression Model"
   ]
  },
  {
   "cell_type": "code",
   "execution_count": 30,
   "metadata": {},
   "outputs": [
    {
     "name": "stdout",
     "output_type": "stream",
     "text": [
      "Linear Regression:\n",
      "MAE: 0.3877482973052707\n",
      "MSE: 0.3877482973052707\n",
      "r2: 0.023337858157445934\n",
      "RMSE: 0.5112781136526017\n"
     ]
    }
   ],
   "source": [
    "# model object has already been created during the feature selection phase - we can now train the model\n",
    "lr_model.fit(X_train_final, y_train)\n",
    "\n",
    "# predict on test data\n",
    "lr_y_pred = lr_model.predict(X_test_final)\n",
    "\n",
    "#evaluate model performance\n",
    "mae_lr = mean_absolute_error(y_test, lr_y_pred)\n",
    "mse_lr = mean_squared_error(y_test, lr_y_pred)\n",
    "r2_lr = r2_score(y_test, lr_y_pred)\n",
    "rmse_lr = np.sqrt(mse_lr) \n",
    "\n",
    "\n",
    "#output results\n",
    "print('Linear Regression:')\n",
    "print(f'MAE: {mae_lr}')\n",
    "print(f'MSE: {mae_lr}')\n",
    "print(f'r2: {r2_lr}')\n",
    "print(f'RMSE: {rmse_lr}')\n"
   ]
  },
  {
   "cell_type": "markdown",
   "metadata": {},
   "source": [
    "#### Random Forest Model"
   ]
  },
  {
   "cell_type": "code",
   "execution_count": 31,
   "metadata": {},
   "outputs": [
    {
     "name": "stdout",
     "output_type": "stream",
     "text": [
      "Random Forest Regressor:\n",
      "MAE: 0.30383722159864285\n",
      "MSE: 0.16256481749127405\n",
      "r2: 0.39262556241546864\n",
      "RMSE: 0.4031932756027487\n"
     ]
    }
   ],
   "source": [
    "#train model\n",
    "rf_model.fit(X_train_final, y_train)\n",
    "\n",
    "#predict y\n",
    "rf_y_pred = rf_model.predict(X_test_final)\n",
    "\n",
    "#evaluate model performance\n",
    "mae_rf = mean_absolute_error(y_test, rf_y_pred)\n",
    "mse_rf = mean_squared_error(y_test, rf_y_pred)\n",
    "r2_rf = r2_score(y_test, rf_y_pred)\n",
    "rmse_rf = np.sqrt(mse_rf) \n",
    "\n",
    "#output results\n",
    "print('Random Forest Regressor:')\n",
    "print(f'MAE: {mae_rf}')\n",
    "print(f'MSE: {mse_rf}')\n",
    "print(f'r2: {r2_rf}')\n",
    "print(f'RMSE: {rmse_rf}')\n"
   ]
  },
  {
   "cell_type": "markdown",
   "metadata": {},
   "source": [
    "#### Gradient Boosting Regressor"
   ]
  },
  {
   "cell_type": "code",
   "execution_count": 32,
   "metadata": {},
   "outputs": [
    {
     "name": "stdout",
     "output_type": "stream",
     "text": [
      "Gradient Booster Regressor:\n",
      "MAE: 0.3335567278780887\n",
      "MSE: 0.19264862667325394\n",
      "r2: 0.2802264777655187\n",
      "RMSE: 0.43891756250263436\n"
     ]
    }
   ],
   "source": [
    "#Intantiate model object\n",
    "gb_model = GradientBoostingRegressor(random_state=42)\n",
    "\n",
    "#train model\n",
    "gb_model.fit(X_train_final, y_train)\n",
    "\n",
    "#predict y\n",
    "gb_y_pred = gb_model.predict(X_test_final)\n",
    "\n",
    "#evaluate model performance\n",
    "mae_gb = mean_absolute_error(y_test, gb_y_pred)\n",
    "mse_gb = mean_squared_error(y_test, gb_y_pred)\n",
    "r2_gb = r2_score(y_test, gb_y_pred)\n",
    "rmse_gb = np.sqrt(mse_gb) \n",
    "#output results\n",
    "print('Gradient Booster Regressor:')\n",
    "print(f'MAE: {mae_gb}')\n",
    "print(f'MSE: {mse_gb}')\n",
    "print(f'r2: {r2_gb}')\n",
    "print(f'RMSE: {rmse_gb}')\n"
   ]
  },
  {
   "cell_type": "markdown",
   "metadata": {},
   "source": [
    "#### Evaluate model performance"
   ]
  },
  {
   "cell_type": "code",
   "execution_count": 33,
   "metadata": {},
   "outputs": [
    {
     "data": {
      "text/html": [
       "<div>\n",
       "<style scoped>\n",
       "    .dataframe tbody tr th:only-of-type {\n",
       "        vertical-align: middle;\n",
       "    }\n",
       "\n",
       "    .dataframe tbody tr th {\n",
       "        vertical-align: top;\n",
       "    }\n",
       "\n",
       "    .dataframe thead th {\n",
       "        text-align: right;\n",
       "    }\n",
       "</style>\n",
       "<table border=\"1\" class=\"dataframe\">\n",
       "  <thead>\n",
       "    <tr style=\"text-align: right;\">\n",
       "      <th></th>\n",
       "      <th>Model</th>\n",
       "      <th>MAE</th>\n",
       "      <th>MSE</th>\n",
       "      <th>R²</th>\n",
       "      <th>RMSE</th>\n",
       "    </tr>\n",
       "  </thead>\n",
       "  <tbody>\n",
       "    <tr>\n",
       "      <th>0</th>\n",
       "      <td>Linear Regression</td>\n",
       "      <td>0.387748</td>\n",
       "      <td>0.261405</td>\n",
       "      <td>0.023338</td>\n",
       "      <td>0.511278</td>\n",
       "    </tr>\n",
       "    <tr>\n",
       "      <th>1</th>\n",
       "      <td>Random Forest Regressor</td>\n",
       "      <td>0.303837</td>\n",
       "      <td>0.162565</td>\n",
       "      <td>0.392626</td>\n",
       "      <td>0.403193</td>\n",
       "    </tr>\n",
       "    <tr>\n",
       "      <th>2</th>\n",
       "      <td>Gradient Boosting Regressor</td>\n",
       "      <td>0.333557</td>\n",
       "      <td>0.192649</td>\n",
       "      <td>0.280226</td>\n",
       "      <td>0.438918</td>\n",
       "    </tr>\n",
       "  </tbody>\n",
       "</table>\n",
       "</div>"
      ],
      "text/plain": [
       "                         Model       MAE       MSE        R²      RMSE\n",
       "0            Linear Regression  0.387748  0.261405  0.023338  0.511278\n",
       "1      Random Forest Regressor  0.303837  0.162565  0.392626  0.403193\n",
       "2  Gradient Boosting Regressor  0.333557  0.192649  0.280226  0.438918"
      ]
     },
     "execution_count": 33,
     "metadata": {},
     "output_type": "execute_result"
    }
   ],
   "source": [
    "model_results = {\n",
    "    \"Model\": [\"Linear Regression\", \"Random Forest Regressor\", \"Gradient Boosting Regressor\"],\n",
    "    \"MAE\": [mae_lr, mae_rf, mae_gb],\n",
    "    \"MSE\": [mse_lr, mse_rf, mse_gb],\n",
    "    \"R²\": [r2_lr, r2_rf, r2_gb],\n",
    "    \"RMSE\": [rmse_lr, rmse_rf, rmse_gb]\n",
    "}\n",
    "\n",
    "summary_df = pd.DataFrame(model_results)\n",
    "\n",
    "summary_df"
   ]
  },
  {
   "cell_type": "code",
   "execution_count": null,
   "metadata": {},
   "outputs": [],
   "source": []
  },
  {
   "cell_type": "code",
   "execution_count": null,
   "metadata": {},
   "outputs": [],
   "source": []
  },
  {
   "cell_type": "code",
   "execution_count": null,
   "metadata": {},
   "outputs": [],
   "source": []
  },
  {
   "cell_type": "code",
   "execution_count": null,
   "metadata": {},
   "outputs": [],
   "source": []
  },
  {
   "cell_type": "code",
   "execution_count": null,
   "metadata": {},
   "outputs": [],
   "source": []
  },
  {
   "cell_type": "code",
   "execution_count": null,
   "metadata": {},
   "outputs": [],
   "source": []
  },
  {
   "cell_type": "code",
   "execution_count": null,
   "metadata": {},
   "outputs": [],
   "source": []
  }
 ],
 "metadata": {
  "kernelspec": {
   "display_name": "Python 3 (ipykernel)",
   "language": "python",
   "name": "python3"
  },
  "language_info": {
   "codemirror_mode": {
    "name": "ipython",
    "version": 3
   },
   "file_extension": ".py",
   "mimetype": "text/x-python",
   "name": "python",
   "nbconvert_exporter": "python",
   "pygments_lexer": "ipython3",
   "version": "3.12.7"
  },
  "vscode": {
   "interpreter": {
    "hash": "7726720b7b6d9667d88bf58aa903f67a9a137a6e8a3449b94a10cbd32f2301f3"
   }
  }
 },
 "nbformat": 4,
 "nbformat_minor": 4
}
