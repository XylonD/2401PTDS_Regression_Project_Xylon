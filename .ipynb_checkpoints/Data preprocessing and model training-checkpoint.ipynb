{
 "cells": [
  {
   "cell_type": "markdown",
   "metadata": {},
   "source": [
    "## Data Preprocessing and Feature Engineering\n",
    "This is an important step in machine learning. Here we will perfrom data scaling, either normalisation or standardisation, which will assist the ML model in making accurate predictions. "
   ]
  },
  {
   "cell_type": "code",
   "execution_count": 61,
   "metadata": {},
   "outputs": [
    {
     "ename": "ModuleNotFoundError",
     "evalue": "No module named 'statsmodels'",
     "output_type": "error",
     "traceback": [
      "\u001b[1;31m---------------------------------------------------------------------------\u001b[0m",
      "\u001b[1;31mModuleNotFoundError\u001b[0m                       Traceback (most recent call last)",
      "Cell \u001b[1;32mIn[61], line 11\u001b[0m\n\u001b[0;32m      9\u001b[0m \u001b[38;5;28;01mfrom\u001b[39;00m \u001b[38;5;21;01msklearn\u001b[39;00m\u001b[38;5;21;01m.\u001b[39;00m\u001b[38;5;21;01mensemble\u001b[39;00m \u001b[38;5;28;01mimport\u001b[39;00m RandomForestRegressor\n\u001b[0;32m     10\u001b[0m \u001b[38;5;28;01mfrom\u001b[39;00m \u001b[38;5;21;01msklearn\u001b[39;00m\u001b[38;5;21;01m.\u001b[39;00m\u001b[38;5;21;01mmetrics\u001b[39;00m \u001b[38;5;28;01mimport\u001b[39;00m mean_squared_error, mean_absolute_error, r2_score\n\u001b[1;32m---> 11\u001b[0m \u001b[38;5;28;01mimport\u001b[39;00m \u001b[38;5;21;01mstatsmodels\u001b[39;00m\u001b[38;5;21;01m.\u001b[39;00m\u001b[38;5;21;01mgraphics\u001b[39;00m\u001b[38;5;21;01m.\u001b[39;00m\u001b[38;5;21;01mcorrelation\u001b[39;00m \u001b[38;5;28;01mas\u001b[39;00m \u001b[38;5;21;01msgc\u001b[39;00m\n\u001b[0;32m     12\u001b[0m \u001b[38;5;28;01mfrom\u001b[39;00m \u001b[38;5;21;01mstatsmodels\u001b[39;00m\u001b[38;5;21;01m.\u001b[39;00m\u001b[38;5;21;01mgraphics\u001b[39;00m\u001b[38;5;21;01m.\u001b[39;00m\u001b[38;5;21;01mgofplots\u001b[39;00m \u001b[38;5;28;01mimport\u001b[39;00m qqplot\n\u001b[0;32m     13\u001b[0m \u001b[38;5;28;01mimport\u001b[39;00m \u001b[38;5;21;01mstatsmodels\u001b[39;00m\u001b[38;5;21;01m.\u001b[39;00m\u001b[38;5;21;01mstats\u001b[39;00m\u001b[38;5;21;01m.\u001b[39;00m\u001b[38;5;21;01mapi\u001b[39;00m \u001b[38;5;28;01mas\u001b[39;00m \u001b[38;5;21;01msms\u001b[39;00m\n",
      "\u001b[1;31mModuleNotFoundError\u001b[0m: No module named 'statsmodels'"
     ]
    }
   ],
   "source": [
    "#import packages\n",
    "import pandas as pd\n",
    "import numpy as np\n",
    "import matplotlib.pyplot as plt\n",
    "import seaborn as sns \n",
    "from sklearn.preprocessing import StandardScaler\n",
    "from sklearn.model_selection import train_test_split\n",
    "from sklearn.linear_model import LinearRegression, Ridge\n",
    "from sklearn.ensemble import RandomForestRegressor\n",
    "from sklearn.metrics import mean_squared_error, mean_absolute_error, r2_score\n",
    "import statsmodels.graphics.correlation as sgc\n",
    "from statsmodels.graphics.gofplots import qqplot\n",
    "import statsmodels.stats.api as sms\n",
    "from statsmodels.stats.outliers_influence import OLSInfluence\n"
   ]
  },
  {
   "cell_type": "code",
   "execution_count": 18,
   "metadata": {},
   "outputs": [
    {
     "data": {
      "text/html": [
       "<div>\n",
       "<style scoped>\n",
       "    .dataframe tbody tr th:only-of-type {\n",
       "        vertical-align: middle;\n",
       "    }\n",
       "\n",
       "    .dataframe tbody tr th {\n",
       "        vertical-align: top;\n",
       "    }\n",
       "\n",
       "    .dataframe thead th {\n",
       "        text-align: right;\n",
       "    }\n",
       "</style>\n",
       "<table border=\"1\" class=\"dataframe\">\n",
       "  <thead>\n",
       "    <tr style=\"text-align: right;\">\n",
       "      <th></th>\n",
       "      <th>Country</th>\n",
       "      <th>Year</th>\n",
       "      <th>Savanna_fires</th>\n",
       "      <th>Forest_fires</th>\n",
       "      <th>Crop_Residues</th>\n",
       "      <th>Rice_Cultivation</th>\n",
       "      <th>Drained_organic_soils_(CO2)</th>\n",
       "      <th>Pesticides_Manufacturing</th>\n",
       "      <th>Food_Transport</th>\n",
       "      <th>Forestland</th>\n",
       "      <th>...</th>\n",
       "      <th>Manure_Management</th>\n",
       "      <th>Fires_in_organic_soils</th>\n",
       "      <th>Fires_in_humid_tropical_forests</th>\n",
       "      <th>On-farm_energy_use</th>\n",
       "      <th>Rural_population</th>\n",
       "      <th>Urban_population</th>\n",
       "      <th>Total_Population_-_Male</th>\n",
       "      <th>Total_Population_-_Female</th>\n",
       "      <th>total_emission</th>\n",
       "      <th>Average_Temperature_°C</th>\n",
       "    </tr>\n",
       "  </thead>\n",
       "  <tbody>\n",
       "    <tr>\n",
       "      <th>0</th>\n",
       "      <td>Afghanistan</td>\n",
       "      <td>1993</td>\n",
       "      <td>14.7237</td>\n",
       "      <td>0.0557</td>\n",
       "      <td>230.8175</td>\n",
       "      <td>686.0</td>\n",
       "      <td>0.0</td>\n",
       "      <td>11.712073</td>\n",
       "      <td>54.3617</td>\n",
       "      <td>-2388.803</td>\n",
       "      <td>...</td>\n",
       "      <td>352.2947</td>\n",
       "      <td>0.0</td>\n",
       "      <td>0.0</td>\n",
       "      <td>140.6888</td>\n",
       "      <td>11858090.0</td>\n",
       "      <td>3237009.0</td>\n",
       "      <td>7003641.0</td>\n",
       "      <td>7000119.0</td>\n",
       "      <td>2368.470529</td>\n",
       "      <td>0.101917</td>\n",
       "    </tr>\n",
       "    <tr>\n",
       "      <th>1</th>\n",
       "      <td>Afghanistan</td>\n",
       "      <td>1994</td>\n",
       "      <td>14.7237</td>\n",
       "      <td>0.0557</td>\n",
       "      <td>242.0494</td>\n",
       "      <td>705.6</td>\n",
       "      <td>0.0</td>\n",
       "      <td>11.712073</td>\n",
       "      <td>53.9874</td>\n",
       "      <td>-2388.803</td>\n",
       "      <td>...</td>\n",
       "      <td>367.6784</td>\n",
       "      <td>0.0</td>\n",
       "      <td>0.0</td>\n",
       "      <td>140.6888</td>\n",
       "      <td>12690115.0</td>\n",
       "      <td>3482604.0</td>\n",
       "      <td>7733458.0</td>\n",
       "      <td>7722096.0</td>\n",
       "      <td>2500.768729</td>\n",
       "      <td>0.372250</td>\n",
       "    </tr>\n",
       "    <tr>\n",
       "      <th>2</th>\n",
       "      <td>Afghanistan</td>\n",
       "      <td>1995</td>\n",
       "      <td>14.7237</td>\n",
       "      <td>0.0557</td>\n",
       "      <td>243.8152</td>\n",
       "      <td>666.4</td>\n",
       "      <td>0.0</td>\n",
       "      <td>11.712073</td>\n",
       "      <td>54.6445</td>\n",
       "      <td>-2388.803</td>\n",
       "      <td>...</td>\n",
       "      <td>397.5498</td>\n",
       "      <td>0.0</td>\n",
       "      <td>0.0</td>\n",
       "      <td>140.6888</td>\n",
       "      <td>13401971.0</td>\n",
       "      <td>3697570.0</td>\n",
       "      <td>8219467.0</td>\n",
       "      <td>8199445.0</td>\n",
       "      <td>2624.612529</td>\n",
       "      <td>0.285583</td>\n",
       "    </tr>\n",
       "    <tr>\n",
       "      <th>3</th>\n",
       "      <td>Afghanistan</td>\n",
       "      <td>1996</td>\n",
       "      <td>38.9302</td>\n",
       "      <td>0.2014</td>\n",
       "      <td>249.0364</td>\n",
       "      <td>686.0</td>\n",
       "      <td>0.0</td>\n",
       "      <td>11.712073</td>\n",
       "      <td>53.1637</td>\n",
       "      <td>-2388.803</td>\n",
       "      <td>...</td>\n",
       "      <td>465.2050</td>\n",
       "      <td>0.0</td>\n",
       "      <td>0.0</td>\n",
       "      <td>140.6888</td>\n",
       "      <td>13952791.0</td>\n",
       "      <td>3870093.0</td>\n",
       "      <td>8569175.0</td>\n",
       "      <td>8537421.0</td>\n",
       "      <td>2838.921329</td>\n",
       "      <td>0.036583</td>\n",
       "    </tr>\n",
       "    <tr>\n",
       "      <th>4</th>\n",
       "      <td>Afghanistan</td>\n",
       "      <td>1997</td>\n",
       "      <td>30.9378</td>\n",
       "      <td>0.1193</td>\n",
       "      <td>276.2940</td>\n",
       "      <td>705.6</td>\n",
       "      <td>0.0</td>\n",
       "      <td>11.712073</td>\n",
       "      <td>52.0390</td>\n",
       "      <td>-2388.803</td>\n",
       "      <td>...</td>\n",
       "      <td>511.5927</td>\n",
       "      <td>0.0</td>\n",
       "      <td>0.0</td>\n",
       "      <td>140.6888</td>\n",
       "      <td>14373573.0</td>\n",
       "      <td>4008032.0</td>\n",
       "      <td>8916862.0</td>\n",
       "      <td>8871958.0</td>\n",
       "      <td>3204.180115</td>\n",
       "      <td>0.415167</td>\n",
       "    </tr>\n",
       "  </tbody>\n",
       "</table>\n",
       "<p>5 rows × 30 columns</p>\n",
       "</div>"
      ],
      "text/plain": [
       "       Country  Year  Savanna_fires  Forest_fires  Crop_Residues  \\\n",
       "0  Afghanistan  1993        14.7237        0.0557       230.8175   \n",
       "1  Afghanistan  1994        14.7237        0.0557       242.0494   \n",
       "2  Afghanistan  1995        14.7237        0.0557       243.8152   \n",
       "3  Afghanistan  1996        38.9302        0.2014       249.0364   \n",
       "4  Afghanistan  1997        30.9378        0.1193       276.2940   \n",
       "\n",
       "   Rice_Cultivation  Drained_organic_soils_(CO2)  Pesticides_Manufacturing  \\\n",
       "0             686.0                          0.0                 11.712073   \n",
       "1             705.6                          0.0                 11.712073   \n",
       "2             666.4                          0.0                 11.712073   \n",
       "3             686.0                          0.0                 11.712073   \n",
       "4             705.6                          0.0                 11.712073   \n",
       "\n",
       "   Food_Transport  Forestland  ...  Manure_Management  Fires_in_organic_soils  \\\n",
       "0         54.3617   -2388.803  ...           352.2947                     0.0   \n",
       "1         53.9874   -2388.803  ...           367.6784                     0.0   \n",
       "2         54.6445   -2388.803  ...           397.5498                     0.0   \n",
       "3         53.1637   -2388.803  ...           465.2050                     0.0   \n",
       "4         52.0390   -2388.803  ...           511.5927                     0.0   \n",
       "\n",
       "   Fires_in_humid_tropical_forests  On-farm_energy_use  Rural_population  \\\n",
       "0                              0.0            140.6888        11858090.0   \n",
       "1                              0.0            140.6888        12690115.0   \n",
       "2                              0.0            140.6888        13401971.0   \n",
       "3                              0.0            140.6888        13952791.0   \n",
       "4                              0.0            140.6888        14373573.0   \n",
       "\n",
       "   Urban_population  Total_Population_-_Male  Total_Population_-_Female  \\\n",
       "0         3237009.0                7003641.0                  7000119.0   \n",
       "1         3482604.0                7733458.0                  7722096.0   \n",
       "2         3697570.0                8219467.0                  8199445.0   \n",
       "3         3870093.0                8569175.0                  8537421.0   \n",
       "4         4008032.0                8916862.0                  8871958.0   \n",
       "\n",
       "   total_emission  Average_Temperature_°C  \n",
       "0     2368.470529                0.101917  \n",
       "1     2500.768729                0.372250  \n",
       "2     2624.612529                0.285583  \n",
       "3     2838.921329                0.036583  \n",
       "4     3204.180115                0.415167  \n",
       "\n",
       "[5 rows x 30 columns]"
      ]
     },
     "execution_count": 18,
     "metadata": {},
     "output_type": "execute_result"
    }
   ],
   "source": [
    "#import cleaned df csv\n",
    "\n",
    "df = pd.read_csv(\"Regression project cleaned dataset\", index_col=None)\n",
    "\n",
    "#drop unamed column - exported incorrectly - index should be set to False\n",
    "##df = df.drop(columns='Unnamed: 0')\n",
    "#output top 5 rows\n",
    "df.head()"
   ]
  },
  {
   "cell_type": "markdown",
   "metadata": {},
   "source": [
    "#### Perform Encoding for Categorical or Non-Numeric features\n",
    "We might not need this"
   ]
  },
  {
   "cell_type": "code",
   "execution_count": 16,
   "metadata": {},
   "outputs": [
    {
     "data": {
      "text/plain": [
       "(6270, 257)"
      ]
     },
     "execution_count": 16,
     "metadata": {},
     "output_type": "execute_result"
    }
   ],
   "source": [
    "#dummy variable endcoding for categorical variables\n",
    "#df_encoded = pd.get_dummies(df, drop_first = True)"
   ]
  },
  {
   "cell_type": "markdown",
   "metadata": {},
   "source": [
    "### Feature scaling \n",
    "I'm going to use standardisation - it involves centering values around the mean and adjusting the standard deviation to one unit. Using Sklearns StandardScaler from the sklearn - preprocessing package. The reason for using Standardisation is because it handles outliers gracefully. We noticed that the dataset contains a number of outliers in various columns."
   ]
  },
  {
   "cell_type": "code",
   "execution_count": 57,
   "metadata": {},
   "outputs": [],
   "source": [
    "#split data in predictor and response variables\n",
    "X = df.drop(['Average_Temperature_°C','Country', 'Year'], axis = 1)\n",
    "\n",
    "y = df['Average_Temperature_°C']\n",
    "\n",
    "#Scale our X features\n",
    "scaler = StandardScaler()\n",
    "\n",
    "# Save standardized features into new variable\n",
    "X_scaled = scaler.fit_transform(X)\n"
   ]
  },
  {
   "cell_type": "code",
   "execution_count": null,
   "metadata": {},
   "outputs": [],
   "source": []
  },
  {
   "cell_type": "markdown",
   "metadata": {},
   "source": [
    "#### Create Train Test Split\n",
    "Here we're going to split our data into a training set and a testing set. We'll apply the 20% rule where 20% of our X and y features will be used for testing the model."
   ]
  },
  {
   "cell_type": "code",
   "execution_count": 59,
   "metadata": {},
   "outputs": [],
   "source": [
    "#create train test split\n",
    "X_train, X_test, y_train, y_test = train_test_split(X_scaled, y, test_size = 0.20, random_state = 42)\n"
   ]
  },
  {
   "cell_type": "markdown",
   "metadata": {},
   "source": [
    "#### Select and develop three primary models\n",
    "I'm going to make use of the following models:\n",
    "1. Linear Regression\n",
    "2. Ridge Regression\n",
    "3. Random Forest Regressor\n",
    "\n",
    "We can add more or change it up later if need be."
   ]
  },
  {
   "cell_type": "markdown",
   "metadata": {},
   "source": [
    "#### Instantiate regression model objects"
   ]
  },
  {
   "cell_type": "code",
   "execution_count": 35,
   "metadata": {},
   "outputs": [],
   "source": [
    "\n",
    "# Instantiate Linear Regression Object\n",
    "lr_model = LinearRegression()\n",
    "\n",
    "# Instantiate Ridge Regression Object\n",
    "ridge_model = Ridge(alpha = 0.1)\n",
    "\n",
    "# Instantiate Random Forest Object\n",
    "rf_model = RandomForestRegressor(n_estimators = 50, max_depth = 5) #our forest consists out of 50 trees with a max depth of 5 in this example"
   ]
  },
  {
   "cell_type": "markdown",
   "metadata": {},
   "source": [
    "#### Fit model to training data and predict y (response variable) - Average_Temperature_°C "
   ]
  },
  {
   "cell_type": "code",
   "execution_count": 37,
   "metadata": {},
   "outputs": [],
   "source": [
    "#train linear model\n",
    "lr_model.fit(X_train, y_train)\n",
    "\n",
    "#train ridge model\n",
    "ridge_model.fit(X_train, y_train)\n",
    "\n",
    "#train\n",
    "rf_model.fit(X_train, y_train)\n",
    "\n",
    "#predict y(response variable)\n",
    "y_pred_lr = lr_model.predict(X_test) #predict using linear model\n",
    "y_pred_ridge = lr_model.predict(X_test) #predict using ridge model\n",
    "y_pred_rf = lr_model.predict(X_test) #predict using random forest model"
   ]
  },
  {
   "cell_type": "markdown",
   "metadata": {},
   "source": [
    "#### Evaluate model performance"
   ]
  },
  {
   "cell_type": "code",
   "execution_count": null,
   "metadata": {},
   "outputs": [],
   "source": []
  },
  {
   "cell_type": "code",
   "execution_count": null,
   "metadata": {},
   "outputs": [],
   "source": []
  },
  {
   "cell_type": "code",
   "execution_count": null,
   "metadata": {},
   "outputs": [],
   "source": []
  },
  {
   "cell_type": "code",
   "execution_count": null,
   "metadata": {},
   "outputs": [],
   "source": []
  },
  {
   "cell_type": "code",
   "execution_count": null,
   "metadata": {},
   "outputs": [],
   "source": []
  },
  {
   "cell_type": "code",
   "execution_count": null,
   "metadata": {},
   "outputs": [],
   "source": []
  },
  {
   "cell_type": "code",
   "execution_count": null,
   "metadata": {},
   "outputs": [],
   "source": []
  },
  {
   "cell_type": "code",
   "execution_count": null,
   "metadata": {},
   "outputs": [],
   "source": []
  }
 ],
 "metadata": {
  "kernelspec": {
   "display_name": "Python 3.12.7 ('regression_env')",
   "language": "python",
   "name": "python3"
  },
  "language_info": {
   "codemirror_mode": {
    "name": "ipython",
    "version": 3
   },
   "file_extension": ".py",
   "mimetype": "text/x-python",
   "name": "python",
   "nbconvert_exporter": "python",
   "pygments_lexer": "ipython3",
   "version": "3.12.7"
  },
  "orig_nbformat": 4,
  "vscode": {
   "interpreter": {
    "hash": "7726720b7b6d9667d88bf58aa903f67a9a137a6e8a3449b94a10cbd32f2301f3"
   }
  }
 },
 "nbformat": 4,
 "nbformat_minor": 2
}
